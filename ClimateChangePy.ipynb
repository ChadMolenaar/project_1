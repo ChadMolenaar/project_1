{
 "cells": [
  {
   "cell_type": "markdown",
   "metadata": {},
   "source": [
    "# Climate Change"
   ]
  },
  {
   "cell_type": "code",
   "execution_count": null,
   "metadata": {},
   "outputs": [],
   "source": [
    "# Dependencies and Setup\n",
    "import numpy as np\n",
    "import pandas as pd\n",
    "import matplotlib.pyplot as plt"
   ]
  },
  {
   "cell_type": "code",
   "execution_count": null,
   "metadata": {},
   "outputs": [],
   "source": [
    "# Import Data from dataset\n",
    "file_basic_path=\"data_sets/\"\n",
    "newFile = pd.ExcelFile(\"data_sets/climate_change_data.xls\")\n",
    "climchang_df = pd.read_excel(\"data_sets/climate_change_data.xls\", sheet_name=\"Data\")\n",
    "climchang_df.columns"
   ]
  },
  {
   "cell_type": "code",
   "execution_count": null,
   "metadata": {},
   "outputs": [],
   "source": [
    "year=[1990+x for x in range(22)]\n",
    "for x in year:\n",
    "    climchang_df[x]=pd.to_numeric(climchang_df[x],errors='coerce')"
   ]
  },
  {
   "cell_type": "code",
   "execution_count": null,
   "metadata": {},
   "outputs": [],
   "source": [
    "climchang_df['Series name'].unique()"
   ]
  },
  {
   "cell_type": "code",
   "execution_count": null,
   "metadata": {},
   "outputs": [],
   "source": [
    "co2_df=climchang_df[climchang_df['Series name']=='CO2 emissions per capita (metric tons)']\n",
    "co2_df"
   ]
  },
  {
   "cell_type": "markdown",
   "metadata": {},
   "source": [
    "### Is there a correlation between yearly global average temperature and yearly average global CO2 level ?\n",
    "* Null hypothesis: There is no correlation between yearly global average temp and yearly average global CO2 levels\n",
    "* Alternative hypothesis: There is a positive correlation between yearly global average temp and yearly average global CO2 levels"
   ]
  },
  {
   "cell_type": "code",
   "execution_count": null,
   "metadata": {},
   "outputs": [],
   "source": []
  },
  {
   "cell_type": "markdown",
   "metadata": {},
   "source": [
    "### If there is a correlation between an increase in global temperature and CO2 levels, then is there a relationship between a country’s average temperature and their CO2 level? Can we see a local effect on a country’s temperature from their CO2 levels?\n",
    "* Null Hypothesis: A country’s increase in CO2 level does not increase the country’s average temperature (by year)\n",
    "* Alternative Hypothesis: A country’s increase in CO2 level does increase the country’s average temperature."
   ]
  },
  {
   "cell_type": "code",
   "execution_count": null,
   "metadata": {},
   "outputs": [],
   "source": [
    "# Import data from dataset\n",
    "df_temp = pd.read_csv(\"data_sets/GlobalLandTemperaturesByCountry.csv\")\n",
    "df_temp.head()"
   ]
  },
  {
   "cell_type": "code",
   "execution_count": null,
   "metadata": {},
   "outputs": [],
   "source": [
    "np.dtype(df_temp[\"dt\"])"
   ]
  },
  {
   "cell_type": "code",
   "execution_count": null,
   "metadata": {},
   "outputs": [],
   "source": [
    "df_temp.dropna(how = \"any\", inplace = True)\n",
    "df"
   ]
  },
  {
   "cell_type": "code",
   "execution_count": null,
   "metadata": {},
   "outputs": [],
   "source": [
    "# retrieving first value in list of values separated by hyphen\n",
    "splited_series = df_temp['dt'].str.split('-').str[0]\n",
    "splited_series"
   ]
  },
  {
   "cell_type": "code",
   "execution_count": null,
   "metadata": {},
   "outputs": [],
   "source": [
    "#adding as new series and check whether new column for year is added\n",
    "df_temp[\"Year\"] = splited_series.astype(\"int64\")\n",
    "df_temp.head()"
   ]
  },
  {
   "cell_type": "code",
   "execution_count": null,
   "metadata": {},
   "outputs": [],
   "source": [
    "#check data type\n",
    "print(np.dtype(df_temp[\"Year\"]))"
   ]
  },
  {
   "cell_type": "code",
   "execution_count": null,
   "metadata": {},
   "outputs": [],
   "source": [
    "# Drop dt column\n",
    "df_temp.drop([\"dt\"], axis=1, inplace=True)"
   ]
  },
  {
   "cell_type": "code",
   "execution_count": null,
   "metadata": {},
   "outputs": [],
   "source": [
    "# Create DF with data regions\n",
    "region_df = pd.read_excel(\"data_sets/climate_change_data.xls\", sheet_name=\"Country\")\n",
    "region_df.head()"
   ]
  },
  {
   "cell_type": "code",
   "execution_count": null,
   "metadata": {},
   "outputs": [],
   "source": [
    "list(region_df)"
   ]
  },
  {
   "cell_type": "code",
   "execution_count": null,
   "metadata": {},
   "outputs": [],
   "source": [
    "# Create df for regions\n",
    "df = pd.DataFrame(region_df, columns= ['Region', \"Country name\"])\n",
    "df.rename(columns = {\"Country name\": \"Country\"}, inplace=True)\n",
    "df"
   ]
  },
  {
   "cell_type": "code",
   "execution_count": null,
   "metadata": {},
   "outputs": [],
   "source": [
    "# Add column for region into df_temp\n",
    "df_temp[\"Region\"]=\"\"\n",
    "df_temp"
   ]
  },
  {
   "cell_type": "code",
   "execution_count": null,
   "metadata": {},
   "outputs": [],
   "source": [
    "# Populate Region column through an merge\n",
    "df_final = pd.merge(df_temp, df, on='Country')\n",
    "df_final.drop([\"Region_x\", \"AverageTemperatureUncertainty\"],axis=1, inplace=True)\n",
    "df_final.rename(columns = {\"Region_y\": \"Region\"}, inplace=True)\n",
    "df_final[[\"Year\", \"Region\", \"Country\", \"AverageTemperature\"]]"
   ]
  },
  {
   "cell_type": "code",
   "execution_count": null,
   "metadata": {},
   "outputs": [],
   "source": [
    "# Group by year and country and calculate average temperature\n",
    "avg_temp_reg = df_final.groupby([\"Region\", \"Year\"])[\"AverageTemperature\"].mean()\n",
    "avg_temp_reg"
   ]
  },
  {
   "cell_type": "code",
   "execution_count": null,
   "metadata": {},
   "outputs": [],
   "source": [
    "x_axis = df_final[\"Region\"]\n",
    "y_axis = df_final[\"AverageTemperature\"]\n",
    "plt.bar(x_axis, y_axis, color='b', align=\"center\")\n",
    "\n",
    "\n",
    "# Set a Title and labels\n",
    "plt.title(\"Average temperature by region\")\n",
    "plt.xlabel(\"Region\")\n",
    "plt.ylabel(\"Average temperature\")\n",
    "\n",
    "plt.show()\n",
    "plt.tight_layout()"
   ]
  },
  {
   "cell_type": "code",
   "execution_count": null,
   "metadata": {},
   "outputs": [],
   "source": [
    "# CO2 df\n",
    "mean_co2_emission = pd.read_excel(\"data_sets/global_mean_CO2_emissions_year.xlsx\")\n",
    "mean_co2_emission.rename(columns = {\"year\": \"Year\"}, inplace=True)\n",
    "mean_co2_emission.head()"
   ]
  },
  {
   "cell_type": "code",
   "execution_count": null,
   "metadata": {},
   "outputs": [],
   "source": [
    "# Merge temp df and CO2 df\n",
    "merged_df = pd.merge(df_final, mean_co2_emission, on = \"Year\", how = \"left\")\n",
    "merged_df"
   ]
  },
  {
   "cell_type": "code",
   "execution_count": null,
   "metadata": {},
   "outputs": [],
   "source": []
  },
  {
   "cell_type": "code",
   "execution_count": null,
   "metadata": {},
   "outputs": [],
   "source": []
  },
  {
   "cell_type": "code",
   "execution_count": null,
   "metadata": {},
   "outputs": [],
   "source": []
  },
  {
   "cell_type": "code",
   "execution_count": null,
   "metadata": {},
   "outputs": [],
   "source": [
    "# Ignore everything below this line"
   ]
  },
  {
   "cell_type": "code",
   "execution_count": null,
   "metadata": {},
   "outputs": [],
   "source": [
    "#climchang_df.head()"
   ]
  },
  {
   "cell_type": "code",
   "execution_count": null,
   "metadata": {},
   "outputs": [],
   "source": [
    "# Create DF with data regions\n",
    "#country_df = pd.read_excel(\"data_sets/climate_change_data.xls\", sheet_name=\"Country\")\n",
    "#country_df.head()"
   ]
  },
  {
   "cell_type": "code",
   "execution_count": null,
   "metadata": {},
   "outputs": [],
   "source": [
    "# Join two datasets on country code\n",
    "#join = pd.merge(climchang_df,country_df, on='Country code', how='left')\n",
    "#join.head()"
   ]
  },
  {
   "cell_type": "code",
   "execution_count": null,
   "metadata": {},
   "outputs": [],
   "source": [
    "# Drop duplicate/irrelevant columns and rename\n",
    "#join.drop([\"SCALE\", \"Series code\", \"Decimals\", \"Country name_y\", \"Capital city\", \"Income group\", \"Lending category\"], axis=1, inplace=True)\n",
    "#join.head()"
   ]
  },
  {
   "cell_type": "code",
   "execution_count": 4,
   "metadata": {},
   "outputs": [],
   "source": [
    "# Rename columns and df\n",
    "#join.rename(columns = {\"Country name_x\": \"Country name\"}, inplace=True)\n",
    "#cc_country = join\n",
    "#cc_country.head()"
   ]
  },
  {
   "cell_type": "code",
   "execution_count": 131,
   "metadata": {},
   "outputs": [],
   "source": []
  },
  {
   "cell_type": "code",
   "execution_count": 3,
   "metadata": {},
   "outputs": [],
   "source": [
    "# show data for series CO2 and temperature only\n",
    "#series = ['CO2 emissions per capita (metric tons)','Average daily min/max temperature (1961-1990, Celsius)']       \n",
    "#df = cc_country[cc_country['Series name'].isin(series)]\n",
    "#df"
   ]
  },
  {
   "cell_type": "code",
   "execution_count": 2,
   "metadata": {},
   "outputs": [],
   "source": [
    "# transpote tco2 rows to column"
   ]
  },
  {
   "cell_type": "code",
   "execution_count": 1,
   "metadata": {},
   "outputs": [],
   "source": [
    "#sort by region\n",
    "#df.sort_values(by=\"Region\", axis=0)\n",
    "#plt.plot(x_values, y_values)"
   ]
  },
  {
   "cell_type": "markdown",
   "metadata": {},
   "source": [
    "### Is there a correlation between a country’s wealth (GDP per Capita) and its yearly average CO2 emissions? \n",
    "* Null hypothesis: Wealth of a country does not affect CO2 emissions. \n",
    "* Alternative hypothesis: The wealthier a country, the more CO2 they emit."
   ]
  },
  {
   "cell_type": "code",
   "execution_count": null,
   "metadata": {},
   "outputs": [],
   "source": []
  },
  {
   "cell_type": "markdown",
   "metadata": {},
   "source": [
    "### Is there a correlation between global average temperature and global population? (population value to be taken at the end of each year)\n",
    "* Null hypothesis: There is no correlation between global yearly average temp and global population.\n",
    "* Alternative hypothesis: There is a positive correlation between global yearly average temp and global population.\n",
    "\n",
    "Does this correlation (population vs temperature) exist in individual countries, or does this vary depending on location? Perfectly sets us up for the next 2Q’s"
   ]
  },
  {
   "cell_type": "code",
   "execution_count": null,
   "metadata": {},
   "outputs": [],
   "source": []
  },
  {
   "cell_type": "markdown",
   "metadata": {},
   "source": [
    "### Is there a correlation between a specific country’s CO2 levels and Temperature vs happiness Index? \n",
    "* Null hypothesis: There is no correlation between CO2 levels/Temperature and happiness index\n",
    "* Alternative hypothesis: As CO2 levels/Temperature increases, citizens of a country is less happy "
   ]
  },
  {
   "cell_type": "code",
   "execution_count": null,
   "metadata": {},
   "outputs": [],
   "source": []
  },
  {
   "cell_type": "markdown",
   "metadata": {},
   "source": [
    "### Is there a correlation between a country’s yearly average CO2 levels and life expectancy? Does a country’s CO2 level affect the life expectancy of a population?\n",
    "* Null hypothesis: There is no correlation between a country’s yearly average CO2 level\n",
    "* Alternative hypothesis: As CO2 levels increase, a population’s life expectancy decreases."
   ]
  },
  {
   "cell_type": "code",
   "execution_count": null,
   "metadata": {},
   "outputs": [],
   "source": []
  },
  {
   "cell_type": "code",
   "execution_count": null,
   "metadata": {},
   "outputs": [],
   "source": []
  },
  {
   "cell_type": "code",
   "execution_count": null,
   "metadata": {},
   "outputs": [],
   "source": []
  }
 ],
 "metadata": {
  "kernelspec": {
   "display_name": "Python 3",
   "language": "python",
   "name": "python3"
  },
  "language_info": {
   "codemirror_mode": {
    "name": "ipython",
    "version": 3
   },
   "file_extension": ".py",
   "mimetype": "text/x-python",
   "name": "python",
   "nbconvert_exporter": "python",
   "pygments_lexer": "ipython3",
   "version": "3.8.3"
  }
 },
 "nbformat": 4,
 "nbformat_minor": 4
}
