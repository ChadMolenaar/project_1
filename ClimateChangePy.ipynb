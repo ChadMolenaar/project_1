{
 "cells": [
  {
   "cell_type": "markdown",
   "metadata": {},
   "source": [
    "# Climate Change"
   ]
  },
  {
   "cell_type": "code",
   "execution_count": 1,
   "metadata": {},
   "outputs": [],
   "source": [
    "# Dependencies and Setup\n",
    "import numpy as np\n",
    "import pandas as pd\n",
    "import matplotlib.pyplot as plt"
   ]
  },
  {
   "cell_type": "code",
   "execution_count": 2,
   "metadata": {},
   "outputs": [],
   "source": [
    "# Import Data from dataset\n",
    "file_path=\"data_sets/\""
   ]
  },
  {
   "cell_type": "markdown",
   "metadata": {},
   "source": [
    "### Is there a correlation between yearly global average temperature and yearly average global CO2 level ?\n",
    "* Null hypothesis: There is no correlation between yearly global average temp and yearly average global CO2 levels\n",
    "* Alternative hypothesis: There is a positive correlation between yearly global average temp and yearly average global CO2 levels"
   ]
  },
  {
   "cell_type": "code",
   "execution_count": null,
   "metadata": {},
   "outputs": [],
   "source": []
  },
  {
   "cell_type": "markdown",
   "metadata": {},
   "source": [
    "### If there is a correlation between an increase in global temperature and CO2 levels, then is there a relationship between a country’s average temperature and their CO2 level? Can we see a local effect on a country’s temperature from their CO2 levels?\n",
    "* Null Hypothesis: A country’s increase in CO2 level does not increase the country’s average temperature (by year)\n",
    "* Alternative Hypothesis: A country’s increase in CO2 level does increase the country’s average temperature."
   ]
  },
  {
   "cell_type": "code",
   "execution_count": null,
   "metadata": {},
   "outputs": [],
   "source": []
  },
  {
   "cell_type": "markdown",
   "metadata": {},
   "source": [
    "### Is there a correlation between a country’s wealth (GDP per Capita) and its yearly average CO2 emissions? \n",
    "* Null hypothesis: Wealth of a country does not affect CO2 emissions. \n",
    "* Alternative hypothesis: The wealthier a country, the more CO2 they emit."
   ]
  },
  {
   "cell_type": "code",
   "execution_count": null,
   "metadata": {},
   "outputs": [],
   "source": []
  },
  {
   "cell_type": "markdown",
   "metadata": {},
   "source": [
    "### Is there a correlation between global average temperature and global population? (population value to be taken at the end of each year)\n",
    "* Null hypothesis: There is no correlation between global yearly average temp and global population.\n",
    "* Alternative hypothesis: There is a positive correlation between global yearly average temp and global population.\n",
    "\n",
    "Does this correlation (population vs temperature) exist in individual countries, or does this vary depending on location? Perfectly sets us up for the next 2Q’s"
   ]
  },
  {
   "cell_type": "code",
   "execution_count": null,
   "metadata": {},
   "outputs": [],
   "source": []
  },
  {
   "cell_type": "markdown",
   "metadata": {},
   "source": [
    "### Is there a correlation between a specific country’s CO2 levels and Temperature vs happiness Index? \n",
    "* Null hypothesis: There is no correlation between CO2 levels/Temperature and happiness index\n",
    "* Alternative hypothesis: As CO2 levels/Temperature increases, citizens of a country is less happy "
   ]
  },
  {
   "cell_type": "code",
   "execution_count": null,
   "metadata": {},
   "outputs": [],
   "source": []
  },
  {
   "cell_type": "markdown",
   "metadata": {},
   "source": [
    "### Is there a correlation between a country’s yearly average CO2 levels and life expectancy? Does a country’s CO2 level affect the life expectancy of a population?\n",
    "* Null hypothesis: There is no correlation between a country’s yearly average CO2 level\n",
    "* Alternative hypothesis: As CO2 levels increase, a population’s life expectancy decreases."
   ]
  },
  {
   "cell_type": "code",
   "execution_count": null,
   "metadata": {},
   "outputs": [],
   "source": []
  },
  {
   "cell_type": "code",
   "execution_count": null,
   "metadata": {},
   "outputs": [],
   "source": []
  },
  {
   "cell_type": "code",
   "execution_count": null,
   "metadata": {},
   "outputs": [],
   "source": []
  }
 ],
 "metadata": {
  "kernelspec": {
   "display_name": "Python [conda env:PythonEnv] *",
   "language": "python",
   "name": "conda-env-PythonEnv-py"
  },
  "language_info": {
   "codemirror_mode": {
    "name": "ipython",
    "version": 3
   },
   "file_extension": ".py",
   "mimetype": "text/x-python",
   "name": "python",
   "nbconvert_exporter": "python",
   "pygments_lexer": "ipython3",
   "version": "3.8.5"
  }
 },
 "nbformat": 4,
 "nbformat_minor": 4
}
