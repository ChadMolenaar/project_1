{
 "cells": [
  {
   "cell_type": "code",
   "execution_count": 1,
   "metadata": {},
   "outputs": [],
   "source": [
    "import pandas as pd \n",
    "import scipy.stats as st\n",
    "import matplotlib.pyplot as plt \n",
    "import numpy as np\n",
    "from matplotlib.pyplot import figure \n",
    "from scipy.stats import linregress\n",
    "from scipy.optimize import curve_fit\n",
    "import math"
   ]
  },
  {
   "cell_type": "markdown",
   "metadata": {},
   "source": [
    "## Question 1 (Heesu) \n",
    "### Is there a correlation between yearly global average temperature and yearly average global CO2 level ?\n",
    "* Heesu's data cleanup\n",
    "\n",
    "### Findings: \n",
    "* From 1959 to 2015, both co2 levels and average global temperature has increased \n",
    "* There is a strong positive positive correlation between co2 levels and average global temperatures, therefore, as co2 levels increase, average global temperatures also increase.\n",
    "* Theres is an outlier of 16.06 degrees recorded in 2015"
   ]
  },
  {
   "cell_type": "code",
   "execution_count": 2,
   "metadata": {
    "scrolled": true
   },
   "outputs": [
    {
     "ename": "FileNotFoundError",
     "evalue": "[Errno 2] File data_sets/GlobalTemperatures_kaggle.csv does not exist: 'data_sets/GlobalTemperatures_kaggle.csv'",
     "output_type": "error",
     "traceback": [
      "\u001b[1;31m---------------------------------------------------------------------------\u001b[0m",
      "\u001b[1;31mFileNotFoundError\u001b[0m                         Traceback (most recent call last)",
      "\u001b[1;32m<ipython-input-2-978ebe162bc8>\u001b[0m in \u001b[0;36m<module>\u001b[1;34m\u001b[0m\n\u001b[1;32m----> 1\u001b[1;33m \u001b[0mglobal_temps\u001b[0m \u001b[1;33m=\u001b[0m \u001b[0mpd\u001b[0m\u001b[1;33m.\u001b[0m\u001b[0mread_csv\u001b[0m\u001b[1;33m(\u001b[0m\u001b[1;34m\"data_sets/GlobalTemperatures_kaggle.csv\"\u001b[0m\u001b[1;33m)\u001b[0m\u001b[1;33m\u001b[0m\u001b[1;33m\u001b[0m\u001b[0m\n\u001b[0m\u001b[0;32m      2\u001b[0m \u001b[0mglobal_temps\u001b[0m\u001b[1;33m.\u001b[0m\u001b[0mhead\u001b[0m\u001b[1;33m(\u001b[0m\u001b[1;33m)\u001b[0m\u001b[1;33m\u001b[0m\u001b[1;33m\u001b[0m\u001b[0m\n",
      "\u001b[1;32m~\\.conda\\envs\\PythonData\\lib\\site-packages\\pandas\\io\\parsers.py\u001b[0m in \u001b[0;36mparser_f\u001b[1;34m(filepath_or_buffer, sep, delimiter, header, names, index_col, usecols, squeeze, prefix, mangle_dupe_cols, dtype, engine, converters, true_values, false_values, skipinitialspace, skiprows, skipfooter, nrows, na_values, keep_default_na, na_filter, verbose, skip_blank_lines, parse_dates, infer_datetime_format, keep_date_col, date_parser, dayfirst, cache_dates, iterator, chunksize, compression, thousands, decimal, lineterminator, quotechar, quoting, doublequote, escapechar, comment, encoding, dialect, error_bad_lines, warn_bad_lines, delim_whitespace, low_memory, memory_map, float_precision)\u001b[0m\n\u001b[0;32m    674\u001b[0m         )\n\u001b[0;32m    675\u001b[0m \u001b[1;33m\u001b[0m\u001b[0m\n\u001b[1;32m--> 676\u001b[1;33m         \u001b[1;32mreturn\u001b[0m \u001b[0m_read\u001b[0m\u001b[1;33m(\u001b[0m\u001b[0mfilepath_or_buffer\u001b[0m\u001b[1;33m,\u001b[0m \u001b[0mkwds\u001b[0m\u001b[1;33m)\u001b[0m\u001b[1;33m\u001b[0m\u001b[1;33m\u001b[0m\u001b[0m\n\u001b[0m\u001b[0;32m    677\u001b[0m \u001b[1;33m\u001b[0m\u001b[0m\n\u001b[0;32m    678\u001b[0m     \u001b[0mparser_f\u001b[0m\u001b[1;33m.\u001b[0m\u001b[0m__name__\u001b[0m \u001b[1;33m=\u001b[0m \u001b[0mname\u001b[0m\u001b[1;33m\u001b[0m\u001b[1;33m\u001b[0m\u001b[0m\n",
      "\u001b[1;32m~\\.conda\\envs\\PythonData\\lib\\site-packages\\pandas\\io\\parsers.py\u001b[0m in \u001b[0;36m_read\u001b[1;34m(filepath_or_buffer, kwds)\u001b[0m\n\u001b[0;32m    446\u001b[0m \u001b[1;33m\u001b[0m\u001b[0m\n\u001b[0;32m    447\u001b[0m     \u001b[1;31m# Create the parser.\u001b[0m\u001b[1;33m\u001b[0m\u001b[1;33m\u001b[0m\u001b[1;33m\u001b[0m\u001b[0m\n\u001b[1;32m--> 448\u001b[1;33m     \u001b[0mparser\u001b[0m \u001b[1;33m=\u001b[0m \u001b[0mTextFileReader\u001b[0m\u001b[1;33m(\u001b[0m\u001b[0mfp_or_buf\u001b[0m\u001b[1;33m,\u001b[0m \u001b[1;33m**\u001b[0m\u001b[0mkwds\u001b[0m\u001b[1;33m)\u001b[0m\u001b[1;33m\u001b[0m\u001b[1;33m\u001b[0m\u001b[0m\n\u001b[0m\u001b[0;32m    449\u001b[0m \u001b[1;33m\u001b[0m\u001b[0m\n\u001b[0;32m    450\u001b[0m     \u001b[1;32mif\u001b[0m \u001b[0mchunksize\u001b[0m \u001b[1;32mor\u001b[0m \u001b[0miterator\u001b[0m\u001b[1;33m:\u001b[0m\u001b[1;33m\u001b[0m\u001b[1;33m\u001b[0m\u001b[0m\n",
      "\u001b[1;32m~\\.conda\\envs\\PythonData\\lib\\site-packages\\pandas\\io\\parsers.py\u001b[0m in \u001b[0;36m__init__\u001b[1;34m(self, f, engine, **kwds)\u001b[0m\n\u001b[0;32m    878\u001b[0m             \u001b[0mself\u001b[0m\u001b[1;33m.\u001b[0m\u001b[0moptions\u001b[0m\u001b[1;33m[\u001b[0m\u001b[1;34m\"has_index_names\"\u001b[0m\u001b[1;33m]\u001b[0m \u001b[1;33m=\u001b[0m \u001b[0mkwds\u001b[0m\u001b[1;33m[\u001b[0m\u001b[1;34m\"has_index_names\"\u001b[0m\u001b[1;33m]\u001b[0m\u001b[1;33m\u001b[0m\u001b[1;33m\u001b[0m\u001b[0m\n\u001b[0;32m    879\u001b[0m \u001b[1;33m\u001b[0m\u001b[0m\n\u001b[1;32m--> 880\u001b[1;33m         \u001b[0mself\u001b[0m\u001b[1;33m.\u001b[0m\u001b[0m_make_engine\u001b[0m\u001b[1;33m(\u001b[0m\u001b[0mself\u001b[0m\u001b[1;33m.\u001b[0m\u001b[0mengine\u001b[0m\u001b[1;33m)\u001b[0m\u001b[1;33m\u001b[0m\u001b[1;33m\u001b[0m\u001b[0m\n\u001b[0m\u001b[0;32m    881\u001b[0m \u001b[1;33m\u001b[0m\u001b[0m\n\u001b[0;32m    882\u001b[0m     \u001b[1;32mdef\u001b[0m \u001b[0mclose\u001b[0m\u001b[1;33m(\u001b[0m\u001b[0mself\u001b[0m\u001b[1;33m)\u001b[0m\u001b[1;33m:\u001b[0m\u001b[1;33m\u001b[0m\u001b[1;33m\u001b[0m\u001b[0m\n",
      "\u001b[1;32m~\\.conda\\envs\\PythonData\\lib\\site-packages\\pandas\\io\\parsers.py\u001b[0m in \u001b[0;36m_make_engine\u001b[1;34m(self, engine)\u001b[0m\n\u001b[0;32m   1112\u001b[0m     \u001b[1;32mdef\u001b[0m \u001b[0m_make_engine\u001b[0m\u001b[1;33m(\u001b[0m\u001b[0mself\u001b[0m\u001b[1;33m,\u001b[0m \u001b[0mengine\u001b[0m\u001b[1;33m=\u001b[0m\u001b[1;34m\"c\"\u001b[0m\u001b[1;33m)\u001b[0m\u001b[1;33m:\u001b[0m\u001b[1;33m\u001b[0m\u001b[1;33m\u001b[0m\u001b[0m\n\u001b[0;32m   1113\u001b[0m         \u001b[1;32mif\u001b[0m \u001b[0mengine\u001b[0m \u001b[1;33m==\u001b[0m \u001b[1;34m\"c\"\u001b[0m\u001b[1;33m:\u001b[0m\u001b[1;33m\u001b[0m\u001b[1;33m\u001b[0m\u001b[0m\n\u001b[1;32m-> 1114\u001b[1;33m             \u001b[0mself\u001b[0m\u001b[1;33m.\u001b[0m\u001b[0m_engine\u001b[0m \u001b[1;33m=\u001b[0m \u001b[0mCParserWrapper\u001b[0m\u001b[1;33m(\u001b[0m\u001b[0mself\u001b[0m\u001b[1;33m.\u001b[0m\u001b[0mf\u001b[0m\u001b[1;33m,\u001b[0m \u001b[1;33m**\u001b[0m\u001b[0mself\u001b[0m\u001b[1;33m.\u001b[0m\u001b[0moptions\u001b[0m\u001b[1;33m)\u001b[0m\u001b[1;33m\u001b[0m\u001b[1;33m\u001b[0m\u001b[0m\n\u001b[0m\u001b[0;32m   1115\u001b[0m         \u001b[1;32melse\u001b[0m\u001b[1;33m:\u001b[0m\u001b[1;33m\u001b[0m\u001b[1;33m\u001b[0m\u001b[0m\n\u001b[0;32m   1116\u001b[0m             \u001b[1;32mif\u001b[0m \u001b[0mengine\u001b[0m \u001b[1;33m==\u001b[0m \u001b[1;34m\"python\"\u001b[0m\u001b[1;33m:\u001b[0m\u001b[1;33m\u001b[0m\u001b[1;33m\u001b[0m\u001b[0m\n",
      "\u001b[1;32m~\\.conda\\envs\\PythonData\\lib\\site-packages\\pandas\\io\\parsers.py\u001b[0m in \u001b[0;36m__init__\u001b[1;34m(self, src, **kwds)\u001b[0m\n\u001b[0;32m   1889\u001b[0m         \u001b[0mkwds\u001b[0m\u001b[1;33m[\u001b[0m\u001b[1;34m\"usecols\"\u001b[0m\u001b[1;33m]\u001b[0m \u001b[1;33m=\u001b[0m \u001b[0mself\u001b[0m\u001b[1;33m.\u001b[0m\u001b[0musecols\u001b[0m\u001b[1;33m\u001b[0m\u001b[1;33m\u001b[0m\u001b[0m\n\u001b[0;32m   1890\u001b[0m \u001b[1;33m\u001b[0m\u001b[0m\n\u001b[1;32m-> 1891\u001b[1;33m         \u001b[0mself\u001b[0m\u001b[1;33m.\u001b[0m\u001b[0m_reader\u001b[0m \u001b[1;33m=\u001b[0m \u001b[0mparsers\u001b[0m\u001b[1;33m.\u001b[0m\u001b[0mTextReader\u001b[0m\u001b[1;33m(\u001b[0m\u001b[0msrc\u001b[0m\u001b[1;33m,\u001b[0m \u001b[1;33m**\u001b[0m\u001b[0mkwds\u001b[0m\u001b[1;33m)\u001b[0m\u001b[1;33m\u001b[0m\u001b[1;33m\u001b[0m\u001b[0m\n\u001b[0m\u001b[0;32m   1892\u001b[0m         \u001b[0mself\u001b[0m\u001b[1;33m.\u001b[0m\u001b[0munnamed_cols\u001b[0m \u001b[1;33m=\u001b[0m \u001b[0mself\u001b[0m\u001b[1;33m.\u001b[0m\u001b[0m_reader\u001b[0m\u001b[1;33m.\u001b[0m\u001b[0munnamed_cols\u001b[0m\u001b[1;33m\u001b[0m\u001b[1;33m\u001b[0m\u001b[0m\n\u001b[0;32m   1893\u001b[0m \u001b[1;33m\u001b[0m\u001b[0m\n",
      "\u001b[1;32mpandas\\_libs\\parsers.pyx\u001b[0m in \u001b[0;36mpandas._libs.parsers.TextReader.__cinit__\u001b[1;34m()\u001b[0m\n",
      "\u001b[1;32mpandas\\_libs\\parsers.pyx\u001b[0m in \u001b[0;36mpandas._libs.parsers.TextReader._setup_parser_source\u001b[1;34m()\u001b[0m\n",
      "\u001b[1;31mFileNotFoundError\u001b[0m: [Errno 2] File data_sets/GlobalTemperatures_kaggle.csv does not exist: 'data_sets/GlobalTemperatures_kaggle.csv'"
     ]
    }
   ],
   "source": [
    "global_temps = pd.read_csv(\"data_sets/GlobalTemperatures_kaggle.csv\")\n",
    "global_temps.head()"
   ]
  },
  {
   "cell_type": "code",
   "execution_count": null,
   "metadata": {},
   "outputs": [],
   "source": [
    "#finding out data type\n",
    "np.dtype(global_temps[\"dt\"])"
   ]
  },
  {
   "cell_type": "code",
   "execution_count": null,
   "metadata": {},
   "outputs": [],
   "source": [
    "#removing rows with NaN values\n",
    "global_temps.dropna(how = \"any\", inplace = True)\n",
    "global_temps.head()"
   ]
  },
  {
   "cell_type": "code",
   "execution_count": null,
   "metadata": {},
   "outputs": [],
   "source": [
    "# retrieving first value in list of values separated by hyphen \n",
    "splited_series = global_temps['dt'].str.split('-').str[0]\n",
    "splited_series"
   ]
  },
  {
   "cell_type": "code",
   "execution_count": null,
   "metadata": {},
   "outputs": [],
   "source": [
    "#adding as new series to original dataframe \n",
    "global_temps[\"year\"] = splited_series.astype(\"int64\")"
   ]
  },
  {
   "cell_type": "code",
   "execution_count": null,
   "metadata": {},
   "outputs": [],
   "source": [
    "#checking if new column is added\n",
    "global_temps.head()"
   ]
  },
  {
   "cell_type": "code",
   "execution_count": null,
   "metadata": {},
   "outputs": [],
   "source": [
    "#checking data type\n",
    " print(np.dtype(global_temps[\"year\"]))"
   ]
  },
  {
   "cell_type": "code",
   "execution_count": null,
   "metadata": {},
   "outputs": [],
   "source": [
    "#getting data from last 50 years; 1966 to 2015 \n",
    "average_temperatures = global_temps.groupby(\"year\")[\"LandAndOceanAverageTemperature\"].sum()/12\n",
    "average_temperatures"
   ]
  },
  {
   "cell_type": "code",
   "execution_count": null,
   "metadata": {},
   "outputs": [],
   "source": [
    "#creating dataframe\n",
    "ave_temps_year = pd.DataFrame(average_temperatures)\n",
    "ave_temps_year.head()"
   ]
  },
  {
   "cell_type": "code",
   "execution_count": null,
   "metadata": {},
   "outputs": [],
   "source": [
    "#reading in excel of year and mean co2 emissions\n",
    "mean_co2_emission = pd.read_excel(\"data_sets/global_mean_CO2_emissions_year.xlsx\")\n",
    "mean_co2_emission.head()"
   ]
  },
  {
   "cell_type": "code",
   "execution_count": null,
   "metadata": {},
   "outputs": [],
   "source": [
    "#merging dataframes on year\n",
    "merged_df = pd.merge(ave_temps_year, mean_co2_emission, on = \"year\", how = \"outer\")\n",
    "#dropping NaN values\n",
    "merged_df.dropna(how = \"any\", inplace = True)\n",
    "merged_df.head()"
   ]
  },
  {
   "cell_type": "markdown",
   "metadata": {},
   "source": [
    "## Scatter plot and Line of regression\n",
    "\n",
    "### Is there a relationship between Average Global temperature and mean global levels?\n",
    "* There is a strong positive positive correlation between co2 levels and average global temperatures, therefore, as co2 levels increase, average global temperatures also increase.\n",
    "* Theres is an outlier of 16.06 degrees recorded in 2015."
   ]
  },
  {
   "cell_type": "code",
   "execution_count": null,
   "metadata": {},
   "outputs": [],
   "source": [
    "# Is there a relationship between co2 levels/average temp and time?\n",
    "#mean CO2 emissions vs year\n",
    "plt.figure(figsize=(20, 10))\n",
    "plt.xlabel(\"Year\",fontsize=15)\n",
    "plt.ylabel(\"Mean Global CO2 Level by Year (parts per million)\",fontsize=15)\n",
    "plt.title(\"Mean Global CO2 Level by Year (parts per million) vs Year (1959 to 2015)\",fontsize=20)\n",
    "plt.plot(merged_df[\"year\"], merged_df[\"yearly mean co2 emission (ppm)\"])\n",
    "\n",
    "plt.savefig(\"boxplot_scatter_gmaps_images/plot_co2_vs_year_heesu.png\")\n",
    "\n",
    "plt.show()"
   ]
  },
  {
   "cell_type": "markdown",
   "metadata": {},
   "source": [
    "* Mean CO2 levels have increased over time between 1959 to 2015"
   ]
  },
  {
   "cell_type": "code",
   "execution_count": null,
   "metadata": {},
   "outputs": [],
   "source": [
    "#ave temp vs year\n",
    "plt.figure(figsize=(20, 10))\n",
    "plt.xlabel(\"Year\",fontsize=15)\n",
    "plt.ylabel(\"Average Global Land and Ocean Temperature (C)\",fontsize=15)\n",
    "plt.title(\"Average Global Land and Ocean Temperature (C) vs Year (1959 to 2015)\",fontsize=20)\n",
    "plt.plot(merged_df[\"year\"], merged_df[\"LandAndOceanAverageTemperature\"])\n",
    "\n",
    "plt.savefig(\"boxplot_scatter_gmaps_images/plot_avetemp_vs_year_heesu.png\")\n",
    "\n",
    "plt.show()"
   ]
  },
  {
   "cell_type": "markdown",
   "metadata": {},
   "source": [
    "* Average global temperature has increased from 1959 to 2015 "
   ]
  },
  {
   "cell_type": "code",
   "execution_count": null,
   "metadata": {},
   "outputs": [],
   "source": [
    "#creating x and y values\n",
    "x_values = merged_df[\"yearly mean co2 emission (ppm)\"]\n",
    "y_values = merged_df[\"LandAndOceanAverageTemperature\"]\n",
    "\n",
    "\n",
    "#scatter plot configuration\n",
    "plt.figure(figsize=(20, 10))\n",
    "plt.scatter(x_values, y_values)\n",
    "plt.xlabel(\"Mean Global CO2 Level by Year (parts per million)\",fontsize=15)\n",
    "plt.ylabel(\"Average Global Land and Ocean Temperature (C)\",fontsize=15)\n",
    "plt.title(\"Average Global Land and Ocean Temperatures (C)  vs  Mean Global CO2 Level by Year (parts per million)\",fontsize=20)\n",
    "\n",
    "#plotting line of regression \n",
    "(slope, intercept, rvalue, pvalue, stderr) = linregress(x_values, y_values)\n",
    "y_values_line = slope*x_values + intercept\n",
    "\n",
    "line_eq = f\"linear regression = {round(slope,2)}x + {round(intercept,2)}\"\n",
    "\n",
    "plt.annotate(line_eq,(360,15.2),fontsize=20,color=\"red\")\n",
    "\n",
    "plt.plot(x_values, y_values_line, color = \"red\")\n",
    "\n",
    "plt.savefig(\"boxplot_scatter_gmaps_images/average_temp_co2_scatter_heesu.png\")\n",
    "\n",
    "plt.show()\n"
   ]
  },
  {
   "cell_type": "code",
   "execution_count": null,
   "metadata": {},
   "outputs": [],
   "source": [
    "#viewing correlation coefficients and p value\n",
    "print(f\"correlation coefficient {rvalue}\")\n",
    "print(f\"p value {pvalue}\")"
   ]
  },
  {
   "cell_type": "markdown",
   "metadata": {},
   "source": [
    "* strong positive correlation with a very small p value. this suggest that this correlation is of statistical significance \n",
    "* as co2 levels increase, global average temperatures also increase"
   ]
  },
  {
   "cell_type": "markdown",
   "metadata": {},
   "source": [
    "### Are there any temperature outliers?\n",
    "* Theres is an outlier of 16.06 degrees recorded in 2015"
   ]
  },
  {
   "cell_type": "code",
   "execution_count": null,
   "metadata": {},
   "outputs": [],
   "source": [
    "#creating groupby object by year\n",
    "avetemp_gb = global_temps.groupby(\"year\")\n",
    "\n",
    "#finding mean temperature for each of the years\n",
    "max_ave_temp_series = avetemp_gb[\"LandAndOceanAverageTemperature\"].mean()\n",
    "#finding maximum mean temperature \n",
    "max_average_mean = round(avetemp_gb[\"LandAndOceanAverageTemperature\"].mean().max(),2)\n",
    "\n",
    "\n",
    "# quartile calculations for average land and ocean temperatures by year\n",
    "quartiles = max_ave_temp_series.quantile([.25,.5,.75])\n",
    "lowerq = quartiles[0.25]\n",
    "upperq = quartiles[0.75]\n",
    "iqr = upperq-lowerq\n",
    "\n",
    "print(f\"The lower quartile of temperatures is: {lowerq}\")\n",
    "print(\"\")\n",
    "print(f\"The upper quartile of temperatures is: {upperq}\")\n",
    "print(\"\")\n",
    "print(f\"The interquartile range of temperatures is: {iqr}\")\n",
    "print(\"\")\n",
    "print(f\"The the median of temperatures is: {quartiles[0.5]} \")\n",
    "print(\"\")\n",
    "\n",
    "lower_bound = lowerq - (1.5*iqr)\n",
    "upper_bound = upperq + (1.5*iqr)\n",
    "print(f\"Values below {lower_bound} could be outliers.\")\n",
    "print(\"\")\n",
    "print(f\"Values above {upper_bound} could be outliers.\")\n",
    "print(\"\")\n",
    "print(f\"Average mean temperature of {max_average_mean} degrees celsius is an outlier and was recorded in 2015\")"
   ]
  },
  {
   "cell_type": "code",
   "execution_count": null,
   "metadata": {},
   "outputs": [],
   "source": [
    "#turning into list\n",
    "mean_ave_temp_list = list(max_ave_temp_series)\n",
    "\n",
    "#boxplot of land and ocean mean temperatures for each year\n",
    "plt.figure(figsize=(20, 10))\n",
    "plt.boxplot(mean_ave_temp_list)\n",
    "plt.title(\"Mean land and ocean temperatures for each year (1850 to 2015) \",fontsize=20)\n",
    "plt.ylabel(\"Temperature (C)\",fontsize=15)\n",
    "\n",
    "plt.savefig(\"boxplot_scatter_gmaps_images/mean_temp_boxplot_heesu.png\")\n",
    "\n",
    "plt.show()"
   ]
  },
  {
   "cell_type": "code",
   "execution_count": null,
   "metadata": {},
   "outputs": [],
   "source": [
    "#finding which year the outlier temp occured\n",
    "merged_df.loc[merged_df[\"LandAndOceanAverageTemperature\"] == (merged_df[\"LandAndOceanAverageTemperature\"].max()),:]"
   ]
  },
  {
   "cell_type": "markdown",
   "metadata": {},
   "source": [
    "## Question 2 (Anne)\n",
    "### Is there relationship between a Region’s average temperature and its CO2 level?\n",
    "\n"
   ]
  },
  {
   "cell_type": "code",
   "execution_count": null,
   "metadata": {},
   "outputs": [],
   "source": [
    "# Read in the files World bank dataset\n",
    "file_basic_path=\"data_sets/\"\n",
    "newFile = pd.ExcelFile(\"data_sets/climate_change_data.xls\")\n",
    "climchang_df = pd.read_excel(\"data_sets/climate_change_data.xls\", sheet_name=\"Data\")"
   ]
  },
  {
   "cell_type": "code",
   "execution_count": null,
   "metadata": {},
   "outputs": [],
   "source": [
    "# Create df\n",
    "climchang_df.columns\n",
    "co2_df=climchang_df[climchang_df['Series name']=='CO2 emissions per capita (metric tons)'].copy()\n",
    "co2_df\n",
    "co2_df.drop(['Country code', 'Series code','Series name','SCALE','Decimals',2009,2010,2011], axis=1, inplace = True)\n",
    "co2_df"
   ]
  },
  {
   "cell_type": "code",
   "execution_count": null,
   "metadata": {},
   "outputs": [],
   "source": [
    "#change column name\n",
    "co2_df.rename(columns = {\"Country name\":\"Country\"}, inplace=True)\n",
    "co2_df"
   ]
  },
  {
   "cell_type": "code",
   "execution_count": null,
   "metadata": {},
   "outputs": [],
   "source": [
    "for x in range(1990,2009):\n",
    "    co2_df[x]=pd.to_numeric(co2_df[x], errors='coerce')\n",
    "co2_df.dropna(inplace=True)\n",
    "co2_df"
   ]
  },
  {
   "cell_type": "code",
   "execution_count": null,
   "metadata": {},
   "outputs": [],
   "source": [
    "# SET UP TEMPERATURE DATAFRAME\n",
    "\n",
    "# Import data from dataset temperatures by country\n",
    "df_temp = pd.read_csv(\"data_sets/GlobalLandTemperaturesByCountry.csv\")\n",
    "df_temp.head()"
   ]
  },
  {
   "cell_type": "code",
   "execution_count": null,
   "metadata": {},
   "outputs": [],
   "source": [
    "np.dtype(df_temp[\"dt\"])"
   ]
  },
  {
   "cell_type": "code",
   "execution_count": null,
   "metadata": {},
   "outputs": [],
   "source": [
    "# Drop NaN values\n",
    "df_temp.dropna(how = \"any\", inplace = True)\n",
    "df_temp"
   ]
  },
  {
   "cell_type": "code",
   "execution_count": null,
   "metadata": {},
   "outputs": [],
   "source": [
    "# Retrieving first value in list of values separated by hyphen\n",
    "splited_series = df_temp['dt'].str.split('-').str[0]\n",
    "splited_series"
   ]
  },
  {
   "cell_type": "code",
   "execution_count": null,
   "metadata": {},
   "outputs": [],
   "source": [
    "# Adding as new series and check whether new column for year is added\n",
    "df_temp[\"Year\"] = splited_series.astype(\"int64\")\n",
    "df_temp.head()"
   ]
  },
  {
   "cell_type": "code",
   "execution_count": null,
   "metadata": {},
   "outputs": [],
   "source": [
    "#check data type\n",
    "print(np.dtype(df_temp[\"Year\"]))"
   ]
  },
  {
   "cell_type": "code",
   "execution_count": null,
   "metadata": {},
   "outputs": [],
   "source": [
    "# Drop dt column\n",
    "df_temp.drop([\"dt\"], axis=1, inplace=True)\n",
    "df_temp.head()"
   ]
  },
  {
   "cell_type": "code",
   "execution_count": null,
   "metadata": {},
   "outputs": [],
   "source": [
    "# Drop Uncertainty column\n",
    "df_temp.drop([\"AverageTemperatureUncertainty\"], axis=1, inplace=True)\n",
    "df_temp.head()"
   ]
  },
  {
   "cell_type": "code",
   "execution_count": null,
   "metadata": {},
   "outputs": [],
   "source": [
    "df_temp=df_temp[(df_temp[\"Year\"]>=1990) & (df_temp[\"Year\"]<2009)]\n",
    "df_temp"
   ]
  },
  {
   "cell_type": "code",
   "execution_count": null,
   "metadata": {},
   "outputs": [],
   "source": [
    "# Print df for 1990-2008\n",
    "pivot = df_temp.pivot_table(index=\"Country\", columns=\"Year\", values=\"AverageTemperature\", aggfunc=np.mean)\n",
    "#pivot = pivot.iloc[:,243:262]\n",
    "pivot"
   ]
  },
  {
   "cell_type": "code",
   "execution_count": null,
   "metadata": {},
   "outputs": [],
   "source": [
    "# merge co2 and temp DFs\n",
    "df = pivot.merge(co2_df, how=\"inner\", on=\"Country\", suffixes=(\"_temp\",\"_CO2\"))\n",
    "df.head()"
   ]
  },
  {
   "cell_type": "code",
   "execution_count": null,
   "metadata": {},
   "outputs": [],
   "source": [
    "# Add column for region and check whether column has been added\n",
    "df[\"Region\"] = \"\"\n",
    "\n",
    "# Create DF with data regions\n",
    "region_df = pd.read_excel(\"data_sets/climate_change_data.xls\", sheet_name=\"Country\")\n",
    "\n",
    "# rename column to make suitable for merge\n",
    "region_df.rename(columns = {\"Country name\": \"Country\"}, inplace=True)"
   ]
  },
  {
   "cell_type": "code",
   "execution_count": null,
   "metadata": {},
   "outputs": [],
   "source": [
    "# Populate Region column through a merge and rename column\n",
    "df_final = df.merge(region_df,how=\"inner\", on=\"Country\")\n",
    "df_final = pd.merge(df, region_df, on='Country')\n",
    "df_final.drop([\"Region_x\", \"Country code\", \"Capital city\", \"Income group\", \"Lending category\"],axis=1, inplace=True)\n",
    "df_final.rename(columns = {\"Region_y\": \"Region\"}, inplace=True)\n",
    "df_final.head()"
   ]
  },
  {
   "cell_type": "code",
   "execution_count": null,
   "metadata": {},
   "outputs": [],
   "source": [
    "# Clean NAN value from merged dataframe \n",
    "df_final.dropna(inplace=True)\n",
    "\n",
    "# Clean druplicated coutnry from merged dataframe \n",
    "df_final.drop_duplicates(subset=['Country'],inplace=True)\n",
    "df_final.dtypes"
   ]
  },
  {
   "cell_type": "code",
   "execution_count": null,
   "metadata": {},
   "outputs": [],
   "source": [
    "# Transfer \"Region\" column to a list of regions\n",
    "region=df_final[\"Region\"].unique()\n",
    "# Transfer \"Coutnry\" column to a list of regions\n",
    "country=df_final[\"Country\"].unique()\n",
    "# Create a year list\n",
    "year = [x for x in range(1990,2009)]\n",
    "#print(region)\n",
    "#print(country)\n",
    "#print(year)"
   ]
  },
  {
   "cell_type": "code",
   "execution_count": null,
   "metadata": {},
   "outputs": [],
   "source": [
    "# Create two dictionaries of CO2 and Life expectancy.\n",
    "# Keys are country names and values are list of CO2/Life expectancy data from different years\n",
    "co2_dict={}\n",
    "temp_dict={}"
   ]
  },
  {
   "cell_type": "code",
   "execution_count": null,
   "metadata": {},
   "outputs": [],
   "source": [
    "# Loop the table\n",
    "for index, row in df.iterrows():\n",
    "    # Add the key (region) to the dictionary\n",
    "    co2_dict[row[\"Country\"]]=[]\n",
    "    temp_dict[row[\"Country\"]]=[]\n",
    "    # Loop every year from 1990 to 2008\n",
    "    for y in year:\n",
    "        # Add the value to the correponding country.\n",
    "        co2_dict[row[\"Country\"]].append(row[f\"{y}_CO2\"])\n",
    "        temp_dict[row[\"Country\"]].append(row[f\"{y}_temp\"])\n",
    "\n",
    "#co2_dict"
   ]
  },
  {
   "cell_type": "code",
   "execution_count": null,
   "metadata": {},
   "outputs": [],
   "source": [
    "# Loop the country list\n",
    "co2=[]\n",
    "temp=[]\n",
    "for x in co2_dict:\n",
    "    for y in co2_dict[x]:\n",
    "        co2.append(y)\n",
    "    for y in temp_dict[x]:\n",
    "        temp.append(y)\n",
    "    # Plot the CO2/temp expectancy data of each region\n",
    "\n",
    "\n",
    "for key in co2_dict:\n",
    "    plt.scatter(co2_dict[key], temp_dict[key], alpha=0.5)\n",
    "\n",
    "#plt.scatter(co2, lf, alpha=0.5, facecolors='none', edgecolors='blue')\n",
    "\n",
    "# Set up the figure\n",
    "plt.xlim(-5,80)\n",
    "plt.ylim(-25,35)\n",
    "plt.xlabel(\"CO2 emissions per capita (metric tons)\")\n",
    "plt.ylabel(\"Average temperature in celcius\")\n",
    "plt.title(\"CO2 levels vs average temperature\")\n",
    "plt.savefig(\"Question 2 plots/CO2_vs_avg_temp_all_regions.png\")\n",
    "plt.show()"
   ]
  },
  {
   "cell_type": "code",
   "execution_count": null,
   "metadata": {},
   "outputs": [],
   "source": [
    "# print list of regions\n",
    "list(df_final[\"Region\"].unique())"
   ]
  },
  {
   "cell_type": "code",
   "execution_count": null,
   "metadata": {},
   "outputs": [],
   "source": [
    "# Create DFs by region\n",
    "sa = df_final[df_final[\"Region\"]==\"South Asia\"]\n",
    "eca = df_final[df_final[\"Region\"]==\"Europe & Central Asia\"]\n",
    "mena = df_final[df_final[\"Region\"]==\"Middle East & North Africa\"]\n",
    "eap = df_final[df_final[\"Region\"]==\"East Asia & Pacific\"]\n",
    "ssa = df_final[df_final[\"Region\"]==\"Sub-Saharan Africa\"]\n",
    "lac = df_final[df_final[\"Region\"]==\"Latin America & Caribbean\"]\n",
    "na = df_final[df_final[\"Region\"]==\"North America\"]"
   ]
  },
  {
   "cell_type": "code",
   "execution_count": null,
   "metadata": {},
   "outputs": [],
   "source": [
    "# Charts South Asia\n",
    "sa"
   ]
  },
  {
   "cell_type": "code",
   "execution_count": null,
   "metadata": {},
   "outputs": [],
   "source": [
    "sa_sum = sa.describe()\n",
    "sa_sum"
   ]
  },
  {
   "cell_type": "code",
   "execution_count": null,
   "metadata": {},
   "outputs": [],
   "source": [
    "co2_mean=[]\n",
    "temp_mean=[]\n",
    "for y in year:\n",
    "    co2_mean.append(sa_sum.iloc[5][f\"{y}_CO2\"]) #adding mean for all CO2 columns to list\n",
    "    temp_mean.append(sa_sum.iloc[5][f\"{y}_temp\"]) #adding mean for all temp columns to list\n",
    "\n",
    "fig, ax1 = plt.subplots()\n",
    "\n",
    "ax1.set_xlabel(\"Year\")\n",
    "ax1.set_ylabel(\"CO2 emission\")\n",
    "ax1.plot(year,co2_mean,label=\"CO2 emission per capita (metric tons)- South Asia\")\n",
    "ax1.set_ylim([0,1.5])\n",
    "ax1.legend(loc=\"best\", fontsize=\"small\")\n",
    "\n",
    "ax2 = ax1.twinx()  # instantiate a second axes that shares the same x-axis\n",
    "ax2.set_ylabel('Average temperature')  # we already handled the x-label with ax1\n",
    "ax2.plot(year, temp_mean,color=\"r\",label=\"Average temperature in celcius - South Asia\")\n",
    "ax2.tick_params(axis='y')\n",
    "\n",
    "ax2.legend(loc=\"best\",fontsize=\"small\")\n",
    "\n",
    "fig.tight_layout()  # otherwise the right y-label is slightly clipped\n",
    "\n",
    "plt.savefig(\"Question 2 plots/CO2_vs_avg_temp_SA.png\")\n",
    "plt.show()\n",
    "\n",
    "print(f\"Trend Analysis\\nIn the SA region, both CO2 emissions and temperature have increased over the years.\\nThe increase in temperature has had dips and peaks but trending upwards, simultaneously with increase in CO2 emissions.\")"
   ]
  },
  {
   "cell_type": "code",
   "execution_count": null,
   "metadata": {},
   "outputs": [],
   "source": [
    "# create list for unique countries in region\n",
    "countries=[]\n",
    "countries.append(sa[\"Country\"]) #adding countries to list\n",
    "def unique_countries(country):\n",
    "    unique = []\n",
    "    for country in countries:\n",
    "        if country in unique:\n",
    "            continue\n",
    "        else:\n",
    "            unique.append(country)\n",
    "        return unique\n",
    "print(unique_countries(country))"
   ]
  },
  {
   "cell_type": "code",
   "execution_count": null,
   "metadata": {},
   "outputs": [],
   "source": [
    "# scatter plot\n",
    "# Loop the table\n",
    "for index, row in sa.iterrows():\n",
    "    # Add the key (region) to the dictionary\n",
    "    co2_tmp=[]\n",
    "    temp_tmp=[]\n",
    "    # Loop every year from 1990 to 2008\n",
    "    for y in year:\n",
    "        # Add the value to the correponding country.\n",
    "        co2_tmp.append(row[f\"{y}_CO2\"])\n",
    "        temp_tmp.append(row[f\"{y}_temp\"])\n",
    "    # Create scatter plot (colours represent country within region)    \n",
    "    plt.scatter(co2_tmp, temp_tmp, alpha=0.5)\n",
    "    # Calculate correlation efficient per country\n",
    "    r=np.corrcoef(co2_tmp, temp_tmp)\n",
    "    print(r)\n",
    "\n",
    "# Set up the figure\n",
    "#plt.xlim(-5,80)\n",
    "plt.ylim(10,35)\n",
    "\n",
    "plt.xlabel(\"CO2 emissions per capita (metric tons)\")\n",
    "plt.ylabel('Average temperature in celcius')\n",
    "plt.savefig('Question 2 plots/temp_co2_SA.png')\n",
    "plt.title('Average temperature in celsius vs CO2 emissions - South Asia')\n",
    "\n",
    "\n",
    "print(f\"Each of the colours represents a country within the region. There is a slight positive correlation between CO2 emissions and average temperature for the majority of the countries.\" )"
   ]
  },
  {
   "cell_type": "code",
   "execution_count": null,
   "metadata": {},
   "outputs": [],
   "source": [
    "# Europe & Central Asia\n",
    "eca"
   ]
  },
  {
   "cell_type": "code",
   "execution_count": null,
   "metadata": {},
   "outputs": [],
   "source": [
    "eca_sum = eca.describe(include='all')\n",
    "#print eca_sum\n",
    "co2_mean=[]\n",
    "temp_mean=[]\n",
    "\n",
    "for y in year:\n",
    "    co2_mean.append(eca_sum.iloc[5][f\"{y}_CO2\"]) #adding mean for all CO2 columns to list\n",
    "    temp_mean.append(eca_sum.iloc[5][f\"{y}_temp\"]) #adding mean for all temp columns to list\n",
    "\n",
    "\n",
    "fig, ax1 = plt.subplots()\n",
    "\n",
    "ax1.set_xlabel(\"Year\")\n",
    "ax1.set_ylabel(\"CO2 emission per capita (metric tonnes)\")\n",
    "ax1.set_ylim([0,6])\n",
    "ax1.plot(year,co2_mean,label=\"CO2 emission per capita (metric tons)- Europe & Central Asia\")\n",
    "ax1.legend(loc=\"upper left\", fontsize=\"small\")\n",
    "\n",
    "ax2 = ax1.twinx()  # instantiate a second axes that shares the same x-axis\n",
    "ax2.set_ylabel('Average temperature in celcius')  # we already handled the x-label with ax1\n",
    "ax2.plot(year, temp_mean,color=\"r\",label=\"Average temperature in celcius - Europe & Central Asia\")\n",
    "ax2.tick_params(axis='y')\n",
    "\n",
    "ax2.legend(loc=\"lower right\", fontsize=\"small\")\n",
    "\n",
    "fig.tight_layout()  # otherwise the right y-label is slightly clipped\n",
    "\n",
    "plt.savefig(\"Question 2 plots/CO2_vs_avg_temp_ECA.png\")\n",
    "plt.show()\n",
    "\n",
    "print(f\"Trend Analysis\\nIn the ECA region, both temperature and CO2 emissions have decreased over the years.\\nTemperature increases/decreases when CO2 emissions increase/decrease. This is as expected, as it will take time for a change in CO2 emissions to show its effects in change in temperature.\")"
   ]
  },
  {
   "cell_type": "code",
   "execution_count": null,
   "metadata": {},
   "outputs": [],
   "source": [
    "# create list for unique countries in region\n",
    "countries=[]\n",
    "countries.append(eca[\"Country\"]) #adding countries to list\n",
    "def unique_countries(country):\n",
    "    unique = []\n",
    "    for country in countries:\n",
    "        if country in unique:\n",
    "            continue\n",
    "        else:\n",
    "            unique.append(country)\n",
    "        return unique\n",
    "print(unique_countries(country))"
   ]
  },
  {
   "cell_type": "code",
   "execution_count": null,
   "metadata": {},
   "outputs": [],
   "source": [
    "# scatter plot\n",
    "# Loop the table\n",
    "for index, row in eca.iterrows():\n",
    "    # Add the key (region) to the dictionary\n",
    "    co2_tmp=[]\n",
    "    temp_tmp=[]\n",
    "    # Loop every year from 1990 to 2008\n",
    "    for y in year:\n",
    "        # Add the value to the correponding country.\n",
    "        co2_tmp.append(row[f\"{y}_CO2\"])\n",
    "        temp_tmp.append(row[f\"{y}_temp\"])\n",
    "    # create scatterplot\n",
    "    plt.scatter(co2_tmp, temp_tmp, alpha=0.5)    \n",
    "    # calculate correlation coefficient\n",
    "    r=np.corrcoef(co2_tmp, temp_tmp)\n",
    "    print(r)\n",
    "    \n",
    "# Set up the figure\n",
    "#plt.xlim(-5,80)\n",
    "plt.ylim(-25,25)\n",
    "\n",
    "plt.xlabel(\"CO2 emissions per capita (metric tons)\")\n",
    "plt.ylabel('Average temperature in celcius')\n",
    "plt.savefig('Question 2 plots/Scatterplot_temp_co2_ECA.png')\n",
    "plt.title('Average temperature in celsius vs CO2 emissions - Europe & Central Asia')\n",
    "\n",
    "print(f\"Each of the colours represents a country within the region. There is a varying correlation (from positive to negative or no correlation at all) between CO2 emissions and average temperature for the countries within this region.\" )"
   ]
  },
  {
   "cell_type": "code",
   "execution_count": null,
   "metadata": {},
   "outputs": [],
   "source": [
    "#print df MENA\n",
    "mena"
   ]
  },
  {
   "cell_type": "code",
   "execution_count": null,
   "metadata": {},
   "outputs": [],
   "source": [
    "\n",
    "#Middle East & North Africa\"]\n",
    "mena_sum = mena.describe(include='all')\n",
    "#print(mena_sum)\n",
    "co2_mean=[]\n",
    "temp_mean=[]\n",
    "    \n",
    "for y in year:\n",
    "    co2_mean.append(mena_sum.iloc[5][f\"{y}_CO2\"]) #adding mean for all CO2 columns to list\n",
    "    temp_mean.append(mena_sum.iloc[5][f\"{y}_temp\"]) #adding mean for all temp columns to list\n",
    "\n",
    "fig, ax1 = plt.subplots()\n",
    "\n",
    "ax1.set_xlabel(\"Year\")\n",
    "ax1.set_ylabel(\"CO2 emission\")\n",
    "ax1.plot(year,co2_mean,label=\"CO2 emission per capita (metric tons)- Middle East & North Africa\")\n",
    "ax1.legend(loc=\"upper left\", fontsize=\"small\")\n",
    "\n",
    "ax2 = ax1.twinx()  # instantiate a second axes that shares the same x-axis\n",
    "ax2.set_ylabel('Average temperature')  # we already handled the x-label with ax1\n",
    "ax2.plot(year, temp_mean,color=\"r\",label=\"Average temperature in celcius - Middle East & North Africa\")\n",
    "ax2.tick_params(axis='y')\n",
    "\n",
    "ax2.legend(loc=\"lower right\",fontsize=\"small\")\n",
    "\n",
    "fig.tight_layout()  # otherwise the right y-label is slightly clipped\n",
    "\n",
    "plt.savefig(\"Question 2 plots/CO2_vs_avg_temp_MENA.png\")\n",
    "plt.show()\n",
    "print(f\"Trend Analysis\\nIn the MENA region, both temperature and CO2 levels have increased over the years (with dips but trending upwards).\\nTemperature increases (and decreases) when CO2 emissions increase (decrease). This is as expected, as it will take time for a change in CO2 emissions to show its effects in change in temperature.\")"
   ]
  },
  {
   "cell_type": "code",
   "execution_count": null,
   "metadata": {},
   "outputs": [],
   "source": [
    "# create list for unique countries in region\n",
    "countries=[]\n",
    "countries.append(mena[\"Country\"]) #adding countries to list\n",
    "def unique_countries(country):\n",
    "    unique = []\n",
    "    for country in countries:\n",
    "        if country in unique:\n",
    "            continue\n",
    "        else:\n",
    "            unique.append(country)\n",
    "        return unique\n",
    "print(unique_countries(country))"
   ]
  },
  {
   "cell_type": "code",
   "execution_count": null,
   "metadata": {},
   "outputs": [],
   "source": [
    "# scatter plot\n",
    "# Loop the table\n",
    "for index, row in mena.iterrows():\n",
    "    # Add the key (region) to the dictionary\n",
    "    co2_tmp=[]\n",
    "    temp_tmp=[]\n",
    "    # Loop every year from 1990 to 2008\n",
    "    for y in year:\n",
    "        # Add the value to the correponding country.\n",
    "        co2_tmp.append(row[f\"{y}_CO2\"])\n",
    "        temp_tmp.append(row[f\"{y}_temp\"])\n",
    "    # create scatter plot\n",
    "    plt.scatter(co2_tmp, temp_tmp, alpha=0.5)  \n",
    "    # calculate correlation coefficient per country within region\n",
    "    r=np.corrcoef(co2_tmp, temp_tmp)\n",
    "    print(r)\n",
    "    \n",
    "# Set up the figure\n",
    "#plt.xlim(-5,80)\n",
    "plt.ylim(0,35)\n",
    "\n",
    "plt.xlabel(\"CO2 emissions per capita (metric tons)\")\n",
    "plt.ylabel('Average temperature in celcius')\n",
    "plt.savefig('Question 2 plots/Scatterplot_temp_co2_MENA.png')\n",
    "plt.title('Average temperature in celsius vs CO2 emissions - Middle East & North Africa')\n",
    "\n",
    "print(f\"Each of the colours represents a country within the region. There is a varying correlation (from positive to negative or no correlation at all) between CO2 emissions and average temperature for the countries within this region.\" )"
   ]
  },
  {
   "cell_type": "code",
   "execution_count": null,
   "metadata": {},
   "outputs": [],
   "source": [
    "# chart EAP\n",
    "eap"
   ]
  },
  {
   "cell_type": "code",
   "execution_count": null,
   "metadata": {},
   "outputs": [],
   "source": [
    "# East Asia & Pacific\n",
    "eap_sum = eap.describe(include='all')\n",
    "co2_mean=[]\n",
    "temp_mean=[]\n",
    "for y in year:\n",
    "    co2_mean.append(eap_sum.iloc[5][f\"{y}_CO2\"]) #adding mean for all CO2 columns to list\n",
    "    temp_mean.append(eap_sum.iloc[5][f\"{y}_temp\"]) #adding mean for all temp columns to list\n",
    "\n",
    "fig, ax1 = plt.subplots()\n",
    "\n",
    "ax1.set_xlabel(\"Year\")\n",
    "ax1.set_ylabel(\"CO2 emission\")\n",
    "ax1.plot(year,co2_mean,label=\"CO2 emission per capita (metric tons)- East Asia & Pacific\")\n",
    "ax1.legend(loc=\"upper left\", fontsize='small')\n",
    "\n",
    "ax2 = ax1.twinx()  # instantiate a second axes that shares the same x-axis\n",
    "ax2.set_ylabel('Average temperature')  # we already handled the x-label with ax1\n",
    "ax2.plot(year, temp_mean,color=\"r\",label=\"Average temperature in celcius - East Asia & Pacific\")\n",
    "ax2.tick_params(axis='y')\n",
    "\n",
    "ax2.legend(loc=\"lower right\",fontsize='small')\n",
    "\n",
    "fig.tight_layout()  # otherwise the right y-label is slightly clipped\n",
    "\n",
    "plt.savefig(\"Question 2 plots/CO2_vs_avg_temp_EAP.png\")\n",
    "plt.show()\n",
    "\n",
    "print(f\"Trend Analysis\\nIn the EAP region, with dips and peaks, temperature and CO2 emissions tend to have increased over the years.\\nTemperature increases when CO2 emissions increase. This is as expected, as it will take time for a change in CO2 emissions to show its effects in change in temperature.\")"
   ]
  },
  {
   "cell_type": "code",
   "execution_count": null,
   "metadata": {},
   "outputs": [],
   "source": [
    "# create list for unique countries in region\n",
    "countries=[]\n",
    "countries.append(eap[\"Country\"]) #adding countries to list\n",
    "def unique_countries(country):\n",
    "    unique = []\n",
    "    for country in countries:\n",
    "        if country in unique:\n",
    "            continue\n",
    "        else:\n",
    "            unique.append(country)\n",
    "        return unique\n",
    "print(unique_countries(country))"
   ]
  },
  {
   "cell_type": "code",
   "execution_count": null,
   "metadata": {},
   "outputs": [],
   "source": [
    "# scatter plot\n",
    "# Loop the table\n",
    "for index, row in eap.iterrows():\n",
    "    # Add the key (region) to the dictionary\n",
    "    co2_tmp=[]\n",
    "    temp_tmp=[]\n",
    "    # Loop every year from 1990 to 2008\n",
    "    for y in year:\n",
    "        # Add the value to the correponding country.\n",
    "        co2_tmp.append(row[f\"{y}_CO2\"])\n",
    "        temp_tmp.append(row[f\"{y}_temp\"])\n",
    "       # Create scatter plot \n",
    "    plt.scatter(co2_tmp, temp_tmp, alpha=0.5) \n",
    "    # calculate corr efficient per country within region\n",
    "    r=np.corrcoef(co2_tmp, temp_tmp)\n",
    "    print(r)\n",
    "# Set up the figure\n",
    "#plt.xlim(-5,80)\n",
    "plt.ylim(-25,35)\n",
    "\n",
    "plt.xlabel(\"CO2 emissions per capita (metric tons)\")\n",
    "plt.ylabel('Average temperature in celcius')\n",
    "plt.savefig('Question 2 plots/Scatterplot_temp_co2_EAP.png')\n",
    "plt.title('Average temperature in celsius vs CO2 emissions - East Asia & Pacific')\n",
    "\n",
    "print(f\"Each of the colours represents a country within the region. There is a varying correlation (mostly from no to light to moderate positive) between CO2 emissions and average temperature for the countries within this region.\" )"
   ]
  },
  {
   "cell_type": "code",
   "execution_count": null,
   "metadata": {},
   "outputs": [],
   "source": [
    "# df ssa\n",
    "ssa"
   ]
  },
  {
   "cell_type": "code",
   "execution_count": null,
   "metadata": {},
   "outputs": [],
   "source": [
    "#Sub-Saharan Africa\n",
    "ssa_sum = ssa.describe(include='all')\n",
    "#print(ssaa_sum)\n",
    "co2_mean=[]\n",
    "temp_mean=[]\n",
    "for y in year:\n",
    "    co2_mean.append(ssa_sum.iloc[5][f\"{y}_CO2\"]) #adding mean for all CO2 columns to list\n",
    "    temp_mean.append(ssa_sum.iloc[5][f\"{y}_temp\"]) #adding mean for all temp columns to list\n",
    "\n",
    "fig, ax1 = plt.subplots()\n",
    "\n",
    "ax1.set_xlabel(\"Year\")\n",
    "ax1.set_ylabel(\"CO2 emission\")\n",
    "ax1.plot(year,co2_mean,label=\"CO2 emission per capita (metric tons)- Sub-Saharan Africa\")\n",
    "ax1.legend(loc=\"upper left\",fontsize=\"small\")\n",
    "\n",
    "ax2 = ax1.twinx()  # instantiate a second axes that shares the same x-axis\n",
    "ax2.set_ylabel('Average temperature')  # we already handled the x-label with ax1\n",
    "ax2.plot(year, temp_mean,color=\"r\",label=\"Average temperature in celcius - Sub-Saharan Africa\")\n",
    "ax2.tick_params(axis='y')\n",
    "\n",
    "ax2.legend(loc=\"lower right\", fontsize=\"small\")\n",
    "\n",
    "fig.tight_layout()  # otherwise the right y-label is slightly clipped\n",
    "\n",
    "plt.savefig(\"Question 2 plots/CO2_vs_avg_temp_SSA.png\")\n",
    "plt.show()\n",
    "print(f\"Trend Analysis\\nBoth CO2 emissions and temperature have increased over the years.\\nIncrease in CO2 emissions seem to result in high peaks of increase in temperature.\")"
   ]
  },
  {
   "cell_type": "code",
   "execution_count": null,
   "metadata": {},
   "outputs": [],
   "source": [
    "# create list for unique countries in region\n",
    "countries=[]\n",
    "countries.append(ssa[\"Country\"]) #adding countries to list\n",
    "def unique_countries(country):\n",
    "    unique = []\n",
    "    for country in countries:\n",
    "        if country in unique:\n",
    "            continue\n",
    "        else:\n",
    "            unique.append(country)\n",
    "        return unique\n",
    "print(unique_countries(country))"
   ]
  },
  {
   "cell_type": "code",
   "execution_count": null,
   "metadata": {},
   "outputs": [],
   "source": [
    "# scatter plot\n",
    "# Loop the table\n",
    "for index, row in ssa.iterrows():\n",
    "    # Add the key (region) to the dictionary\n",
    "    co2_tmp=[]\n",
    "    temp_tmp=[]\n",
    "    # Loop every year from 1990 to 2008\n",
    "    for y in year:\n",
    "        # Add the value to the correponding country.\n",
    "        co2_tmp.append(row[f\"{y}_CO2\"])\n",
    "        temp_tmp.append(row[f\"{y}_temp\"])\n",
    "    # create scatter plot\n",
    "    plt.scatter(co2_tmp, temp_tmp, alpha=0.5)  \n",
    "    # calculate corr efficient per region\n",
    "    r=np.corrcoef(co2_tmp, temp_tmp)\n",
    "    print(r)\n",
    "\n",
    "# Set up the figure\n",
    "#plt.xlim(-5,80)\n",
    "plt.ylim(-25,35)\n",
    "\n",
    "plt.xlabel(\"CO2 emissions per capita (metric tons)\")\n",
    "plt.ylabel('Average temperature in celcius')\n",
    "plt.savefig('Question 2 plots/Scatterplot_temp_co2_SSA.png')\n",
    "plt.title('Average temperature in celsius vs CO2 emissions - Sub-Saharan Africa')\n",
    "\n",
    "print(f\"Each of the colours represents a country within the region. There is a varying correlation (from positive to negative or no correlation at all) between CO2 emissions and average temperature for the countries within this region.\" )"
   ]
  },
  {
   "cell_type": "code",
   "execution_count": null,
   "metadata": {},
   "outputs": [],
   "source": [
    "# df lac\n",
    "lac"
   ]
  },
  {
   "cell_type": "code",
   "execution_count": null,
   "metadata": {},
   "outputs": [],
   "source": [
    "#Latin America & Caribbean\n",
    "lac_sum = lac.describe(include='all')\n",
    "#print(mena_sum)\n",
    "lac = lac.describe(include='all')\n",
    "#print(eap)\n",
    "co2_mean=[]\n",
    "temp_mean=[]\n",
    "for y in year:\n",
    "    co2_mean.append(lac_sum.iloc[5][f\"{y}_CO2\"]) #adding mean for all CO2 columns to list\n",
    "    temp_mean.append(lac_sum.iloc[5][f\"{y}_temp\"]) #adding mean for all temp columns to list\n",
    "\n",
    "fig, ax1 = plt.subplots()\n",
    "\n",
    "ax1.set_xlabel(\"Year\")\n",
    "ax1.set_ylabel(\"CO2 emission\")\n",
    "ax1.plot(year,co2_mean,label=\"CO2 emission per capita (metric tons)- Latin America & Caribbean\")\n",
    "ax1.legend(loc=\"upper left\", fontsize=\"small\")\n",
    "\n",
    "ax2 = ax1.twinx()  # instantiate a second axes that shares the same x-axis\n",
    "ax2.set_ylabel('Average temperature')  # we already handled the x-label with ax1\n",
    "ax2.plot(year, temp_mean,color=\"r\",label=\"Average temperature in celcius - Latin America & Caribbean\")\n",
    "ax2.tick_params(axis='y')\n",
    "\n",
    "ax2.legend(loc=\"lower right\", fontsize=\"small\")\n",
    "\n",
    "fig.tight_layout()  # otherwise the right y-label is slightly clipped\n",
    "\n",
    "plt.savefig(\"Question 2 plots/CO2_vs_avg_temp_LAC.png\")\n",
    "plt.show()\n",
    "print(f\"Trend Analysis\\nIn the LAC region, temperature has increased over the years whereas CO2 emissions have decreased.\\nThere does not seem to be a relationship between these two variables.\")"
   ]
  },
  {
   "cell_type": "code",
   "execution_count": null,
   "metadata": {},
   "outputs": [],
   "source": [
    "# create list for unique countries in region\n",
    "countries=[]\n",
    "countries.append(lac[\"Country\"]) #adding countries to list\n",
    "def unique_countries(country):\n",
    "    unique = []\n",
    "    for country in countries:\n",
    "        if country in unique:\n",
    "            continue\n",
    "        else:\n",
    "            unique.append(country)\n",
    "        return unique\n",
    "print(unique_countries(country))"
   ]
  },
  {
   "cell_type": "code",
   "execution_count": null,
   "metadata": {},
   "outputs": [],
   "source": [
    "# scatter plot\n",
    "# Loop the table\n",
    "for index, row in lac.iterrows():\n",
    "    # Add the key (region) to the dictionary\n",
    "    co2_tmp=[]\n",
    "    temp_tmp=[]\n",
    "    # Loop every year from 1990 to 2008\n",
    "    for y in year:\n",
    "        # Add the value to the correponding country.\n",
    "        co2_tmp.append(row[f\"{y}_CO2\"])\n",
    "        temp_tmp.append(row[f\"{y}_temp\"])\n",
    "    # create scatter plot\n",
    "    plt.scatter(co2_tmp, temp_tmp, alpha=0.5)  \n",
    "    # calculate corr efficient per country within region\n",
    "    r=np.corrcoef(co2_tmp, temp_tmp)\n",
    "    print(r)\n",
    "\n",
    "# Set up the figure\n",
    "#plt.xlim(-5,80)\n",
    "plt.ylim(-25,35)\n",
    "\n",
    "plt.xlabel(\"CO2 emissions per capita (metric tons)\")\n",
    "plt.ylabel('Average temperature in celcius')\n",
    "plt.savefig('Question 2 plots/Scatterplot_temp_co2_lac.png')\n",
    "plt.title('Average temperature in celsius vs CO2 emissions - Latin America & Caribbean')\n",
    "\n",
    "print(f\"Each of the colours represents a country within the region. There is a very moderate positive or negative correlation for some of the countries, or no correlation at all between CO2 emissions and average temperature for the countries within this region.\" )"
   ]
  },
  {
   "cell_type": "code",
   "execution_count": null,
   "metadata": {},
   "outputs": [],
   "source": [
    "# df na\n",
    "na"
   ]
  },
  {
   "cell_type": "code",
   "execution_count": null,
   "metadata": {},
   "outputs": [],
   "source": [
    "#North America\n",
    "na_sum = na.describe(include='all')\n",
    "#print(na)\n",
    "#na = na.describe(include='all')\n",
    "#print(eap)\n",
    "co2_mean=[]\n",
    "temp_mean=[]\n",
    "for y in year:\n",
    "    co2_mean.append(na_sum.iloc[5][f\"{y}_CO2\"]) #adding mean for all CO2 columns to list\n",
    "    temp_mean.append(na_sum.iloc[5][f\"{y}_temp\"]) #adding mean for all temp columns to list\n",
    "\n",
    "fig, ax1 = plt.subplots()\n",
    "\n",
    "ax1.set_xlabel(\"Year\")\n",
    "ax1.set_ylabel(\"CO2 emission\")\n",
    "ax1.plot(year,co2_mean,label=\"CO2 emission per capita (metric tons)- North America\")\n",
    "ax1.legend(loc=\"upper left\", fontsize=\"small\")\n",
    "\n",
    "ax2 = ax1.twinx()  # instantiate a second axes that shares the same x-axis\n",
    "ax2.set_ylabel('Average temperature')  # we already handled the x-label with ax1\n",
    "ax2.plot(year, temp_mean,color=\"r\",label=\"Average temperature in celcius - North America\")\n",
    "ax2.tick_params(axis='y')\n",
    "\n",
    "ax2.legend(loc=\"lower right\", fontsize=\"small\")\n",
    "\n",
    "fig.tight_layout()  # otherwise the right y-label is slightly clipped\n",
    "\n",
    "plt.savefig(\"Question 2 plots/CO2_vs_avg_temp_NA.png\")\n",
    "plt.show()\n",
    "print(f\"Trend Analysis\\nIn the NA region, there is no clear upward or downward trend in increase in temperature and CO2 emissions.\\nIncrease in CO2 emissions seems to be followed by increase in temperature. This is as expected. From 2000 onwards, temperature has increased whereas CO2 emissions have decreased.\")"
   ]
  },
  {
   "cell_type": "code",
   "execution_count": null,
   "metadata": {},
   "outputs": [],
   "source": [
    "# create list for unique countries in region\n",
    "countries=[]\n",
    "countries.append(na[\"Country\"]) #adding countries to list\n",
    "def unique_countries(country):\n",
    "    unique = []\n",
    "    for country in countries:\n",
    "        if country in unique:\n",
    "            continue\n",
    "        else:\n",
    "            unique.append(country)\n",
    "        return unique\n",
    "print(unique_countries(country))"
   ]
  },
  {
   "cell_type": "code",
   "execution_count": null,
   "metadata": {},
   "outputs": [],
   "source": [
    "# scatter plot\n",
    "# Loop the table\n",
    "for index, row in na.iterrows():\n",
    "    # Add the key (region) to the dictionary\n",
    "    co2_tmp=[]\n",
    "    temp_tmp=[]\n",
    "    # Loop every year from 1990 to 2008\n",
    "    for y in year:\n",
    "        # Add the value to the correponding country.\n",
    "        co2_tmp.append(row[f\"{y}_CO2\"])\n",
    "        temp_tmp.append(row[f\"{y}_temp\"])\n",
    "    # create scatter plot\n",
    "    plt.scatter(co2_tmp, temp_tmp, alpha=0.5) \n",
    "    # Calculate corr efficient per country within region\n",
    "    r=np.corrcoef(co2_tmp, temp_tmp)\n",
    "    print(r)\n",
    " \n",
    "\n",
    "# Set up the figure\n",
    "#plt.xlim(-5,80)\n",
    "plt.ylim(-25,35)\n",
    "\n",
    "plt.xlabel(\"CO2 emissions per capita (metric tons)\")\n",
    "plt.ylabel('Average temperature in celcius')\n",
    "plt.savefig('Question 2 plots/Scatterplot_temp_co2_na.png')\n",
    "plt.title('Average temperature in celsius vs CO2 emissions - North America')\n",
    "\n",
    "print(f\"Each of the colours represents a country within the region. There is a light positive and light negative correlation between CO2 emissions and average temperature for the countries within this region.\" )"
   ]
  },
  {
   "cell_type": "markdown",
   "metadata": {},
   "source": [
    "## Question 5 (Zheng)\n",
    "### Is there a correlation between a country’s yearly average CO2 levels and life expectancy? Does a country’s CO2 level affect the life expectancy of a population?\n",
    "\n",
    "### Findings: \n",
    "* Globally, life expectancy increases as CO2 emission per capita increase.\n",
    "* The relationship between life expectancy and CO2 is exponential\n",
    "* The R squared value of the proposed predicing model is about 0.59.\n",
    "* This means that the relationship between CO2 and life expectancy may be not that close as we expected."
   ]
  },
  {
   "cell_type": "code",
   "execution_count": null,
   "metadata": {},
   "outputs": [],
   "source": []
  },
  {
   "cell_type": "code",
   "execution_count": null,
   "metadata": {},
   "outputs": [],
   "source": [
    "# Read Life Expectancy data from csv file \n",
    "lf_df = pd.read_csv(\"data_sets/Lifeexpectancy.csv\")\n",
    "\n",
    "# Clean data after 2015 for later comparison\n",
    "for x in range(2016,2021):\n",
    "    # drop the columns if year=x.\n",
    "    lf_df=lf_df.drop(columns=[f\"{x}\"])\n",
    "lf_df.head()"
   ]
  },
  {
   "cell_type": "code",
   "execution_count": null,
   "metadata": {},
   "outputs": [],
   "source": [
    "# Read CO2 data from csv file \n",
    "co2_df = pd.read_csv(\"data_sets/CO2emission_percapita.csv\")\n",
    "\n",
    "# Clean data after 2015 for later comparison\n",
    "for x in range(2016,2021):\n",
    "    # drop the columns if year=x.\n",
    "    co2_df=co2_df.drop(columns=[f\"{x}\"])\n",
    "\n",
    "# Preview CO2 emission dataframe\n",
    "co2_df.head()"
   ]
  },
  {
   "cell_type": "code",
   "execution_count": null,
   "metadata": {},
   "outputs": [],
   "source": [
    "# Merge life expectancy and CO2 dataframes with the key \"Country Name\"\n",
    "co2_lf_df=lf_df.merge(co2_df,how=\"inner\",on=\"Country Name\", suffixes=('_lf', '_co2'))\n",
    "# Preview data\n",
    "co2_lf_df.head()"
   ]
  },
  {
   "cell_type": "code",
   "execution_count": null,
   "metadata": {},
   "outputs": [],
   "source": [
    "# Clean NAN value from merged dataframe \n",
    "co2_lf_df.dropna(inplace=True)\n",
    "\n",
    "# Clean druplicated coutnry from merged dataframe \n",
    "co2_lf_df.drop_duplicates(subset=['Country Name'],inplace=True)\n",
    "\n",
    "# Clean negative value\n",
    "for y in range(1960,2016):\n",
    "    co2_lf_df=co2_lf_df[co2_lf_df[f\"{y}_co2\"]>=0]\n",
    "    co2_lf_df=co2_lf_df[co2_lf_df[f\"{y}_lf\"]>=0]\n",
    "\n",
    "co2_lf_df.reset_index(drop=True).head()"
   ]
  },
  {
   "cell_type": "code",
   "execution_count": null,
   "metadata": {},
   "outputs": [],
   "source": [
    "# Transfer \"Country Name\" column to a list of country\n",
    "country=co2_lf_df[\"Country Name\"].tolist()\n",
    "#print(country)"
   ]
  },
  {
   "cell_type": "code",
   "execution_count": null,
   "metadata": {},
   "outputs": [],
   "source": [
    "# Create two dictionaries of CO2 and Life expectancy.\n",
    "# Keys are country names and values are list of CO2/Life expectancy data\n",
    "co2_dict={}\n",
    "lf_dict={}"
   ]
  },
  {
   "cell_type": "code",
   "execution_count": null,
   "metadata": {},
   "outputs": [],
   "source": [
    "# Loop every country in the country list\n",
    "for x in country:\n",
    "    # Add the key (coutry) to the dictionary\n",
    "    co2_dict[x]=[]\n",
    "    lf_dict[x]=[]\n",
    "    # Loop every year from 1960 to 2015\n",
    "    for y in range(1960,2016):\n",
    "        # Add the value to the correponding country.\n",
    "        co2_dict[x].append(co2_lf_df[f\"{y}_co2\"][co2_lf_df[\"Country Name\"]==x].values[0])\n",
    "        lf_dict[x].append(co2_lf_df[f\"{y}_lf\"][co2_lf_df[\"Country Name\"]==x].values[0])"
   ]
  },
  {
   "cell_type": "code",
   "execution_count": null,
   "metadata": {},
   "outputs": [],
   "source": [
    "# Combine all the co2/life expectancy data together for curve fitting\n",
    "co2=[]\n",
    "lf=[]\n",
    "# Loop every coutnry in the country list\n",
    "for x in country:\n",
    "    for y in co2_dict[x]:\n",
    "        co2.append(y)\n",
    "    for y in lf_dict[x]:\n",
    "        lf.append(y)\n",
    "    # Plot the CO2/Life expectancy data of each country\n",
    "    plt.scatter(co2_dict[x], lf_dict[x], alpha=0.5)\n",
    "\n",
    "#plt.scatter(co2, lf, alpha=0.5, facecolors='none', edgecolors='blue')\n",
    "\n",
    "# Set up the figure\n",
    "plt.xlim(-1,31)\n",
    "plt.xlabel(\"CO2 emission per capita\")\n",
    "plt.ylabel(\"Life expectancy\")\n",
    "plt.title(\"CO2 level vs life expectancy\")\n",
    "plt.savefig(\"CO2_vs_LifeExpectancy_Zheng_Qi\\Global_CO2_vs_LifeExpectancy.png\")\n",
    "plt.show()"
   ]
  },
  {
   "cell_type": "markdown",
   "metadata": {},
   "source": [
    "* Globally, life expectancy increases as CO2 emission per capita increase.\n",
    "* The relationship between life expectancy and CO2 is exponential"
   ]
  },
  {
   "cell_type": "code",
   "execution_count": null,
   "metadata": {},
   "outputs": [],
   "source": [
    "# Define the function we will use for curve fitting.\n",
    "def func(x, a, b, c):\n",
    "    return a * np.exp(-b *x) + c\n",
    "\n",
    "print(min(co2))\n",
    "# Curve fitting the data\n",
    "popt, pcov = curve_fit(func, co2, lf)\n",
    "x_values= np.arange(0.0, 50.0, 0.1)\n",
    "y_values = [func(x, *popt) for x in x_values]\n",
    "\n",
    "line_eq = \"y = \" + str(round(popt[0],2)) + \"*(\" + str(round(-popt[1],2))+\"x)+\"+str(round(popt[2],2))\n",
    "#print(min(co2))\n",
    "residuals=[]\n",
    "for i in range(len(co2)):\n",
    "    residuals.append(lf[i]- func(co2[i], popt[0],popt[1],popt[2]))\n",
    "ss_res=0.0\n",
    "for i in range(len(co2)):\n",
    "    ss_res += residuals[i]**2\n",
    "    ss_tot = np.sum((lf-np.mean(lf))**2)\n",
    "r_squared = 1 - (ss_res / ss_tot)\n",
    "#perr = np.sqrt(np.diag(pcov))\n",
    "print(f\"The r squared value is {round(r_squared, 3)}\")\n",
    "\n",
    "plt.scatter(co2, lf, alpha=0.5, facecolors='none', edgecolors='blue')\n",
    "plt.plot(x_values,y_values,\"r-\")\n",
    "plt.annotate(line_eq,(5,40),fontsize=15,color=\"red\")\n",
    "plt.xlim(-1,31)\n",
    "plt.xlabel(\"CO2 emission per capita\")\n",
    "plt.ylabel(\"Life expectancy\")\n",
    "plt.title(\"CO2 level vs life expectancy\")\n",
    "\n",
    "plt.savefig(\"CO2_vs_LifeExpectancy_Zheng_Qi\\Curve_fitting_Global_CO2_vs_LifeExpectancy.png\")\n",
    "plt.show()"
   ]
  },
  {
   "cell_type": "markdown",
   "metadata": {},
   "source": [
    "* The R squared value of the proposed predicing model is about 0.59.\n",
    "* This means that the relationship between CO2 and life expectancy may be not that close as we expected."
   ]
  },
  {
   "cell_type": "markdown",
   "metadata": {},
   "source": [
    "### Is there a correlation between average CO2 emission vs average Life expectancy?\n",
    "* The average values of CO2/life expectancy show that no obvious correlation is found.\n",
    "* The relationship between CO2 and life expectancy should be examined regionally."
   ]
  },
  {
   "cell_type": "code",
   "execution_count": null,
   "metadata": {},
   "outputs": [],
   "source": [
    "co2_lf_sum=co2_lf_df.describe()\n",
    "co2_mean=[]\n",
    "lf_mean=[]\n",
    "# Create year list\n",
    "year=[x for x in range(1960,2016)]\n",
    "for y in year:\n",
    "    co2_mean.append(co2_lf_sum.iloc[1][f\"{y}_co2\"])\n",
    "    lf_mean.append(co2_lf_sum.iloc[1][f\"{y}_lf\"])\n",
    "\n",
    "fig, ax1 = plt.subplots()\n",
    "\n",
    "# Plot average CO2 emission\n",
    "ax1.set_xlabel(\"year\")\n",
    "ax1.set_ylabel(\"CO2 emission per capita\")\n",
    "ax1.plot(year,co2_mean,label=\"CO2 emission per capita\")\n",
    "#ax1.tick_params(axis='y', labelcolor=color)\n",
    "ax1.legend(loc=\"best\")\n",
    "\n",
    "# Plot average life expectancy\n",
    "ax2 = ax1.twinx()  # instantiate a second axes that shares the same x-axis\n",
    "ax2.set_ylabel('Life expectancy')  # we already handled the x-label with ax1\n",
    "ax2.plot(year, lf_mean,color=\"r\",label=\"Life expectancy\")\n",
    "ax2.tick_params(axis='y')\n",
    "\n",
    "ax2.legend(loc=\"best\")\n",
    "plt.title(\"Average CO2 level vs  life expectancy\")\n",
    "fig.tight_layout()  # otherwise the right y-label is slightly clipped\n",
    "plt.savefig(\"CO2_vs_LifeExpectancy_Zheng_Qi\\Global_CO2_vs_LifeExpectancy_average_value.png\")\n",
    "plt.show()"
   ]
  },
  {
   "cell_type": "markdown",
   "metadata": {},
   "source": [
    "* The average values of CO2/life expectancy show that no obvious correlation is found.\n",
    "* The relationship between CO2 and life expectancy should be examined regionally."
   ]
  },
  {
   "cell_type": "markdown",
   "metadata": {},
   "source": [
    "### Is there an effect of CO2 emission on Life expectancy in different countries?\n",
    "* Developed countries: The CO2 emissions in developed countries are higher. CO2 emission change has little effect on life expectancy.\n",
    "* Developing countries: The CO2 emissions in developing countries are lower. Life expectancy increases as CO2 emission increases in developing countries."
   ]
  },
  {
   "cell_type": "markdown",
   "metadata": {},
   "source": [
    "### Developed countries"
   ]
  },
  {
   "cell_type": "code",
   "execution_count": null,
   "metadata": {},
   "outputs": [],
   "source": [
    "# Developed countries list\n",
    "Developed_Country=[\"Norway\",\"Australia\",\"Denmark\"]\n",
    "fig, ax1 = plt.subplots()\n",
    "\n",
    "ax1.set_xlabel(\"year\")\n",
    "ax1.set_ylabel(\"CO2 emission per capita\")\n",
    "# plot co2 emission in developed countries\n",
    "for x in Developed_Country:\n",
    "    ax1.plot(year,co2_dict[x])\n",
    "ax1.tick_params(axis='y')\n",
    "ax1.legend(Developed_Country,title='CO2 emission',loc='upper left')\n",
    "\n",
    "# plot life expectancy in developed countries\n",
    "ax2 = ax1.twinx()  # instantiate a second axes that shares the same x-axis\n",
    "ax2.set_ylabel('Life expectancy')  # we already handled the x-label with ax1\n",
    "for x in Developed_Country:\n",
    "    ax2.plot(year, lf_dict[x],linestyle='dashed')\n",
    "ax2.tick_params(axis='y')\n",
    "ax2.legend(Developed_Country, title='Life expectancy',loc=\"lower right\")\n",
    "\n",
    "plt.title(\"CO2 level vs  life expectancy in developed countries\")\n",
    "fig.tight_layout()  # otherwise the right y-label is slightly clipped\n",
    "plt.savefig(\"CO2_vs_LifeExpectancy_Zheng_Qi\\CO2_vs_LifeExpectancy_developed_countries.png\")\n",
    "plt.show()"
   ]
  },
  {
   "cell_type": "markdown",
   "metadata": {},
   "source": [
    "* The CO2 emissions in developed coutries are higher.\n",
    "* CO2 emission change has little effect on life expectancy."
   ]
  },
  {
   "cell_type": "markdown",
   "metadata": {},
   "source": [
    "### Developing countries"
   ]
  },
  {
   "cell_type": "code",
   "execution_count": null,
   "metadata": {},
   "outputs": [],
   "source": [
    "Developing_Country=[\"Brazil\",\"China\",\"Iraq\"]\n",
    "fig, ax1 = plt.subplots()\n",
    "\n",
    "ax1.set_xlabel(\"year\")\n",
    "ax1.set_ylabel(\"CO2 emission per capita\")\n",
    "# plot co2 emission in developing countries\n",
    "for x in Developing_Country:\n",
    "    ax1.plot(year,co2_dict[x])\n",
    "    \n",
    "#ax1.tick_params(axis='y', labelcolor=color)\n",
    "ax1.legend(Developing_Country,title='CO2 emission',loc='upper left')\n",
    "\n",
    "# plot life expectancy in developing countries\n",
    "ax2 = ax1.twinx()  # instantiate a second axes that shares the same x-axis\n",
    "ax2.set_ylabel('Life expectancy')  # we already handled the x-label with ax1\n",
    "for x in Developing_Country:\n",
    "    ax2.plot(year, lf_dict[x],linestyle='dashed',)\n",
    "ax2.tick_params(axis='y')\n",
    "ax2.legend(Developing_Country, title='Life expectancy',loc=\"lower right\")\n",
    "\n",
    "plt.title(\"CO2 level vs  life expectancy in developing countries\")\n",
    "fig.tight_layout()  # otherwise the right y-label is slightly clipped\n",
    "plt.savefig(\"CO2_vs_LifeExpectancy_Zheng_Qi\\CO2_vs_LifeExpectancy_developing_countries.png\")\n",
    "plt.show()"
   ]
  },
  {
   "cell_type": "markdown",
   "metadata": {},
   "source": [
    "* The CO2 emissions in developing coutries are lower.\n",
    "* Life expectancy increases as CO2 emission increases in developing countries."
   ]
  },
  {
   "cell_type": "code",
   "execution_count": null,
   "metadata": {},
   "outputs": [],
   "source": []
  }
 ],
 "metadata": {
  "kernelspec": {
   "display_name": "Python [conda env:.conda-PythonData] *",
   "language": "python",
   "name": "conda-env-.conda-PythonData-py"
  },
  "language_info": {
   "codemirror_mode": {
    "name": "ipython",
    "version": 3
   },
   "file_extension": ".py",
   "mimetype": "text/x-python",
   "name": "python",
   "nbconvert_exporter": "python",
   "pygments_lexer": "ipython3",
   "version": "3.6.10"
  }
 },
 "nbformat": 4,
 "nbformat_minor": 4
}
